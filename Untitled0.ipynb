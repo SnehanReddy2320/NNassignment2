{
  "nbformat": 4,
  "nbformat_minor": 0,
  "metadata": {
    "colab": {
      "provenance": [],
      "authorship_tag": "ABX9TyPqpx6e20uSAYDsO27NF7B5",
      "include_colab_link": true
    },
    "kernelspec": {
      "name": "python3",
      "display_name": "Python 3"
    },
    "language_info": {
      "name": "python"
    }
  },
  "cells": [
    {
      "cell_type": "markdown",
      "metadata": {
        "id": "view-in-github",
        "colab_type": "text"
      },
      "source": [
        "<a href=\"https://colab.research.google.com/github/SnehanReddy2320/NNassignment2/blob/main/Untitled0.ipynb\" target=\"_parent\"><img src=\"https://colab.research.google.com/assets/colab-badge.svg\" alt=\"Open In Colab\"/></a>"
      ]
    },
    {
      "cell_type": "code",
      "execution_count": 1,
      "metadata": {
        "colab": {
          "base_uri": "https://localhost:8080/"
        },
        "id": "zdRHS_UTLHcg",
        "outputId": "45136e9c-2463-4827-d93d-639415550131"
      },
      "outputs": [
        {
          "output_type": "stream",
          "name": "stdout",
          "text": [
            "Your first nameSnehan reddy\n",
            "your last name Marri\n",
            "Snehan reddyMarri\n"
          ]
        }
      ],
      "source": [
        "first_name = (input(\"Your first name\"))\n",
        "last_name = (input(\"your last name \"))\n",
        "full_name = print(first_name + last_name)\n"
      ]
    },
    {
      "cell_type": "code",
      "source": [
        "def string_alternative(full_name):\n",
        "    return full_name[::2]\n",
        "result = string_alternative(\"Good evening\")\n",
        "print(result)"
      ],
      "metadata": {
        "colab": {
          "base_uri": "https://localhost:8080/"
        },
        "id": "eGCzVv55Qjaw",
        "outputId": "5a84ca71-6a19-49f3-e0ea-67298a668e33"
      },
      "execution_count": 2,
      "outputs": [
        {
          "output_type": "stream",
          "name": "stdout",
          "text": [
            "Go vnn\n"
          ]
        }
      ]
    },
    {
      "cell_type": "code",
      "source": [
        "file1 = open('/content/Input.txt','r')\n",
        "counts = dict()\n",
        "data = file1.read()\n",
        "words = data.split()\n",
        "for word in words:\n",
        "  if word in counts:\n",
        "    counts[word] += 1\n",
        "  else:\n",
        "    counts[word] = 1\n",
        "print(counts)\n",
        "\n",
        "f = open('output.txt','w')\n",
        "f.write(data)\n",
        "f.write(\"\\nword_count:\\n\")\n",
        "for key, value in counts.items():\n",
        "  f.write(f\"{key}:{value}\\n\")\n",
        "f.close()\n"
      ],
      "metadata": {
        "colab": {
          "base_uri": "https://localhost:8080/"
        },
        "id": "NTvhgJmWRF5v",
        "outputId": "da17bfdd-14f7-40a4-83bb-8ede27c1bc56"
      },
      "execution_count": 2,
      "outputs": [
        {
          "output_type": "stream",
          "name": "stdout",
          "text": [
            "{'Python': 1, 'Course': 2, 'Deep': 1, 'Learning': 1}\n"
          ]
        }
      ]
    },
    {
      "cell_type": "code",
      "source": [
        "L1 = list(map(float,input().split()))\n",
        "L2 = []\n",
        "for x in L1:\n",
        "  x=x*2.54\n",
        "  L2.append(x)\n",
        "print(L2)"
      ],
      "metadata": {
        "colab": {
          "base_uri": "https://localhost:8080/"
        },
        "id": "-s_MnE5aSowo",
        "outputId": "b8e7aaae-0e5c-4151-9bd8-720ced888651"
      },
      "execution_count": 3,
      "outputs": [
        {
          "output_type": "stream",
          "name": "stdout",
          "text": [
            "150\n",
            "[381.0]\n"
          ]
        }
      ]
    },
    {
      "cell_type": "code",
      "source": [
        "L1 = list(map(float,input().split()))\n",
        "L2 = [x*2.54 for x in L1]\n",
        "print(L2)\n"
      ],
      "metadata": {
        "colab": {
          "base_uri": "https://localhost:8080/"
        },
        "id": "GgsOrv3mTHi_",
        "outputId": "62f9984d-fbc0-412b-a186-3f8f12a0ae68"
      },
      "execution_count": 4,
      "outputs": [
        {
          "output_type": "stream",
          "name": "stdout",
          "text": [
            "150 155 145 148\n",
            "[381.0, 393.7, 368.3, 375.92]\n"
          ]
        }
      ]
    }
  ]
}